{
 "cells": [
  {
   "cell_type": "code",
   "execution_count": 48,
   "metadata": {},
   "outputs": [
    {
     "name": "stdout",
     "output_type": "stream",
     "text": [
      "32\n"
     ]
    }
   ],
   "source": [
    "import glob\n",
    "import os\n",
    "import PIL\n",
    "import numpy as np\n",
    "import h5py\n",
    "import IPython \n",
    "from PIL import Image\n",
    "\n",
    "# try:\n",
    "#     import Image\n",
    "# except ImportError:\n",
    "#     from PIL import Image\n",
    "\n",
    "hdf5_path = '/media/ivanwilliam/BINUS_DATA/Tester_HDF5/AGFA000000010216_Body 0.5_016.h5'\n",
    "k=16\n",
    "\n",
    "hdf_check=h5py.File(hdf5_path, 'r')\n",
    "base_items = list (hdf_check.items())\n",
    "dataset=hdf_check.get('dataset')\n",
    "\n",
    "a = len(dataset)\n",
    "print (a)\n",
    "\n",
    "x=(k-1)*32\n",
    "i=x\n",
    "\n",
    "for i in range (x,x+32):\n",
    "    img_data= PIL.Image.fromarray(dataset[i-x])\n",
    "    img_data.save('img_data'+str(i)+'.jpg')\n",
    "    i=i+1\n",
    "#     img_data.show()"
   ]
  },
  {
   "cell_type": "code",
   "execution_count": null,
   "metadata": {},
   "outputs": [],
   "source": []
  }
 ],
 "metadata": {
  "kernelspec": {
   "display_name": "Python 3",
   "language": "python",
   "name": "python3"
  },
  "language_info": {
   "codemirror_mode": {
    "name": "ipython",
    "version": 3
   },
   "file_extension": ".py",
   "mimetype": "text/x-python",
   "name": "python",
   "nbconvert_exporter": "python",
   "pygments_lexer": "ipython3",
   "version": "3.5.2"
  }
 },
 "nbformat": 4,
 "nbformat_minor": 2
}
