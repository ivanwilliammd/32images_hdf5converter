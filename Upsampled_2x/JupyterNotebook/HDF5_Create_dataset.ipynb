{
 "cells": [
  {
   "cell_type": "code",
   "execution_count": 7,
   "metadata": {
    "scrolled": true
   },
   "outputs": [],
   "source": [
    "import numpy as np\n",
    "import h5py\n",
    "\n",
    "matrix1 = np.random.random(size =(1000,1000))\n",
    "matrix2 = np.random.random(size =(10000, 100))\n",
    "\n",
    "with h5py.File('/home/ivanwilliam/Desktop/hdf5_data.h5', 'w') as hdf:\n",
    "    hdf.create_dataset('dataset1', data=matrix1)\n",
    "    hdf.create_dataset('dataset2', data=matrix2)"
   ]
  },
  {
   "cell_type": "code",
   "execution_count": 12,
   "metadata": {},
   "outputs": [
    {
     "name": "stdout",
     "output_type": "stream",
     "text": [
      "List of dataset in this file: \n",
      " ['dataset1', 'dataset2']\n",
      "Shape of dataset1 \n",
      " (1000, 1000)\n",
      "Shape of dataset1 \n",
      " [[0.43721213 0.11608867 0.26125643 ... 0.09123152 0.59257203 0.57146432]\n",
      " [0.39282298 0.50018906 0.68202135 ... 0.503505   0.18088071 0.91852733]\n",
      " [0.26638647 0.3226436  0.39459731 ... 0.89566866 0.66582239 0.44450223]\n",
      " ...\n",
      " [0.85558527 0.90334738 0.58702112 ... 0.47227278 0.42392087 0.63108292]\n",
      " [0.57549252 0.45999212 0.7381569  ... 0.65766249 0.4936572  0.01441738]\n",
      " [0.38470554 0.76628143 0.42503342 ... 0.59048422 0.36020211 0.40200544]]\n",
      "Shape of dataset1 \n",
      " (10000, 100)\n"
     ]
    }
   ],
   "source": [
    "with h5py.File('/home/ivanwilliam/Desktop/hdf5_data.h5', 'r') as hdf:\n",
    "    ls = list(hdf.keys())\n",
    "    print('List of dataset in this file: \\n', ls)\n",
    "    data1 = hdf.get('dataset1')\n",
    "    dataset1=np.array(data1)\n",
    "    print('Shape of dataset1 \\n', dataset1.shape)\n",
    "    data2 = hdf.get('dataset2')\n",
    "    dataset2=np.array(data2)\n",
    "    print('Shape of dataset1 \\n', dataset2.shape)"
   ]
  },
  {
   "cell_type": "code",
   "execution_count": 13,
   "metadata": {},
   "outputs": [
    {
     "data": {
      "text/plain": [
       "<Closed HDF5 dataset>"
      ]
     },
     "execution_count": 13,
     "metadata": {},
     "output_type": "execute_result"
    }
   ],
   "source": [
    "data1"
   ]
  },
  {
   "cell_type": "code",
   "execution_count": 14,
   "metadata": {},
   "outputs": [
    {
     "data": {
      "text/plain": [
       "array([[0.43721213, 0.11608867, 0.26125643, ..., 0.09123152, 0.59257203,\n",
       "        0.57146432],\n",
       "       [0.39282298, 0.50018906, 0.68202135, ..., 0.503505  , 0.18088071,\n",
       "        0.91852733],\n",
       "       [0.26638647, 0.3226436 , 0.39459731, ..., 0.89566866, 0.66582239,\n",
       "        0.44450223],\n",
       "       ...,\n",
       "       [0.85558527, 0.90334738, 0.58702112, ..., 0.47227278, 0.42392087,\n",
       "        0.63108292],\n",
       "       [0.57549252, 0.45999212, 0.7381569 , ..., 0.65766249, 0.4936572 ,\n",
       "        0.01441738],\n",
       "       [0.38470554, 0.76628143, 0.42503342, ..., 0.59048422, 0.36020211,\n",
       "        0.40200544]])"
      ]
     },
     "execution_count": 14,
     "metadata": {},
     "output_type": "execute_result"
    }
   ],
   "source": [
    "dataset1"
   ]
  },
  {
   "cell_type": "code",
   "execution_count": 21,
   "metadata": {},
   "outputs": [
    {
     "name": "stdout",
     "output_type": "stream",
     "text": [
      "Shape of dataset1 \n",
      " (1000, 1000)\n"
     ]
    }
   ],
   "source": [
    "f = h5py.File('/home/ivanwilliam/Desktop/hdf5_data.h5', 'r') \n",
    "ls = list(f.keys())\n",
    "data1 = f.get('dataset1')\n",
    "dataset1=np.array(data1)\n",
    "print('Shape of dataset1 \\n', dataset1.shape)\n",
    "f.close()"
   ]
  },
  {
   "cell_type": "code",
   "execution_count": 17,
   "metadata": {},
   "outputs": [
    {
     "data": {
      "text/plain": [
       "['dataset1', 'dataset2']"
      ]
     },
     "execution_count": 17,
     "metadata": {},
     "output_type": "execute_result"
    }
   ],
   "source": [
    "ls"
   ]
  },
  {
   "cell_type": "code",
   "execution_count": 20,
   "metadata": {},
   "outputs": [
    {
     "name": "stdout",
     "output_type": "stream",
     "text": [
      "Shape of dataset1 \n",
      " (1000, 1000)\n"
     ]
    }
   ],
   "source": []
  },
  {
   "cell_type": "code",
   "execution_count": null,
   "metadata": {},
   "outputs": [],
   "source": [
    "matrix1 = np.random.random(size =(1000,1000))\n",
    "matrix2 = np.random.random(size =(10000, 100))"
   ]
  }
 ],
 "metadata": {
  "kernelspec": {
   "display_name": "Python 3",
   "language": "python",
   "name": "python3"
  },
  "language_info": {
   "codemirror_mode": {
    "name": "ipython",
    "version": 3
   },
   "file_extension": ".py",
   "mimetype": "text/x-python",
   "name": "python",
   "nbconvert_exporter": "python",
   "pygments_lexer": "ipython3",
   "version": "3.5.2"
  }
 },
 "nbformat": 4,
 "nbformat_minor": 2
}
