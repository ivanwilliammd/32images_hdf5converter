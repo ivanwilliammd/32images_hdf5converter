{
 "cells": [
  {
   "cell_type": "code",
   "execution_count": 8,
   "metadata": {},
   "outputs": [
    {
     "name": "stdout",
     "output_type": "stream",
     "text": [
      "debug R\n",
      "1. 255\n",
      "\n",
      "2. 255\n",
      "\n",
      "3. 0\n",
      "\n",
      "4. 0\n",
      "\n",
      "5. 110.37634181976318\n",
      "\n",
      "6. 91.0341796875\n",
      "\n",
      "7. 110.37634181976318\n",
      "\n",
      "8. 91.0341796875\n",
      "\n",
      "debug G\n",
      "1. 255\n",
      "\n",
      "2. 255\n",
      "\n",
      "3. 0\n",
      "\n",
      "4. 0\n",
      "\n",
      "5. 110.37634181976318\n",
      "\n",
      "6. 91.0341796875\n",
      "\n",
      "7. 110.37634181976318\n",
      "\n",
      "8. 91.0341796875\n",
      "\n",
      "debug B\n",
      "1. 255\n",
      "\n",
      "2. 255\n",
      "\n",
      "3. 0\n",
      "\n",
      "4. 0\n",
      "\n",
      "5. 110.37634181976318\n",
      "\n",
      "6. 91.0341796875\n",
      "\n",
      "7. 110.37634181976318\n",
      "\n",
      "8. 91.0341796875\n",
      "\n"
     ]
    }
   ],
   "source": [
    "import cv2\n",
    "import numpy as np\n",
    "\n",
    "height = 1024\n",
    "width = 1024\n",
    "ratio = height/512\n",
    "\n",
    "pics_path = '/home/ivanwilliam/Documents/Full_images/0.5/AGFA000000005603_Lung 0.5/AGFA000000005603_0705.jpg'\n",
    "picture_ds = cv2.imread(pics_path)\n",
    "resize_picture_ds = cv2.resize(picture_ds, dsize=(height, width), interpolation=cv2.INTER_CUBIC)\n",
    "pics_array= np.array(resize_picture_ds)\n",
    "\n",
    "print(\"debug R\")\n",
    "print('1. ' +str(np.max(pics_array[:,:,0]))+'\\n')\n",
    "print('2. ' +str(np.max(pics_array[:,256,0]))+'\\n')\n",
    "print('3. ' +str(np.min(pics_array[:,:,0]))+'\\n')\n",
    "print('4. ' +str(np.min(pics_array[:,256,0]))+'\\n')\n",
    "print('5. ' +str(np.mean(pics_array[:,:,0]))+'\\n')\n",
    "print('6. ' +str(np.mean(pics_array[:,256,0]))+'\\n')\n",
    "print('7. ' +str(np.mean(pics_array[:,:,0]))+'\\n')\n",
    "print('8. ' +str(np.mean(pics_array[:,256,0]))+'\\n')\n",
    "\n",
    "print(\"debug G\")\n",
    "print('1. ' +str(np.max(pics_array[:,:,1]))+'\\n')\n",
    "print('2. ' +str(np.max(pics_array[:,256,1]))+'\\n')\n",
    "print('3. ' +str(np.min(pics_array[:,:,1]))+'\\n')\n",
    "print('4. ' +str(np.min(pics_array[:,256,1]))+'\\n')\n",
    "print('5. ' +str(np.mean(pics_array[:,:,1]))+'\\n')\n",
    "print('6. ' +str(np.mean(pics_array[:,256,1]))+'\\n')\n",
    "print('7. ' +str(np.mean(pics_array[:,:,1]))+'\\n')\n",
    "print('8. ' +str(np.mean(pics_array[:,256,1]))+'\\n')\n",
    "\n",
    "print(\"debug B\")\n",
    "print('1. ' +str(np.max(pics_array[:,:,2]))+'\\n')\n",
    "print('2. ' +str(np.max(pics_array[:,256,2]))+'\\n')\n",
    "print('3. ' +str(np.min(pics_array[:,:,2]))+'\\n')\n",
    "print('4. ' +str(np.min(pics_array[:,256,2]))+'\\n')\n",
    "print('5. ' +str(np.mean(pics_array[:,:,2]))+'\\n')\n",
    "print('6. ' +str(np.mean(pics_array[:,256,2]))+'\\n')\n",
    "print('7. ' +str(np.mean(pics_array[:,:,2]))+'\\n')\n",
    "print('8. ' +str(np.mean(pics_array[:,256,2]))+'\\n')"
   ]
  },
  {
   "cell_type": "code",
   "execution_count": 15,
   "metadata": {},
   "outputs": [
    {
     "name": "stdout",
     "output_type": "stream",
     "text": [
      "debug R\n",
      "1. 255\n",
      "\n",
      "2. 255\n",
      "\n",
      "3. 0\n",
      "\n",
      "4. 0\n",
      "\n",
      "5. 110.37634181976318\n",
      "\n",
      "6. 91.0341796875\n",
      "\n",
      "7. 110.37634181976318\n",
      "\n",
      "8. 91.0341796875\n",
      "\n"
     ]
    }
   ],
   "source": [
    "import glob\n",
    "import os\n",
    "import cv2\n",
    "import numpy as np\n",
    "import h5py\n",
    "import IPython \n",
    "\n",
    "\n",
    "hdf5_path = '/media/ivanwilliam/Ivan_HDD_2TB/i3d_hdf5_lung_data_resized/HDF5_file/AGFA000000005603_Lung 0.5_012.h5'\n",
    "k=12\n",
    "p=705\n",
    "x=(k-1)*64\n",
    "\n",
    "hdf_check=h5py.File(hdf5_path, 'r')\n",
    "base_items = list (hdf_check.items())\n",
    "dataset=hdf_check.get('dataset')\n",
    "\n",
    "len(dataset)\n",
    "\n",
    "u=p-x-1\n",
    "dataset_debug=dataset[u]\n",
    "print(\"debug R\")\n",
    "print('1. ' +str(np.max(dataset_debug[:,:,0]))+'\\n')\n",
    "print('2. ' +str(np.max(dataset_debug[:,256,0]))+'\\n')\n",
    "print('3. ' +str(np.min(dataset_debug[:,:,0]))+'\\n')\n",
    "print('4. ' +str(np.min(dataset_debug[:,256,0]))+'\\n')\n",
    "print('5. ' +str(np.mean(dataset_debug[:,:,0]))+'\\n')\n",
    "print('6. ' +str(np.mean(dataset_debug[:,256,0]))+'\\n')\n",
    "print('7. ' +str(np.mean(dataset_debug[:,:,0]))+'\\n')\n",
    "print('8. ' +str(np.mean(dataset_debug[:,256,0]))+'\\n')"
   ]
  },
  {
   "cell_type": "code",
   "execution_count": 14,
   "metadata": {},
   "outputs": [
    {
     "data": {
      "text/plain": [
       "352"
      ]
     },
     "execution_count": 14,
     "metadata": {},
     "output_type": "execute_result"
    }
   ],
   "source": [
    "u"
   ]
  },
  {
   "cell_type": "code",
   "execution_count": null,
   "metadata": {},
   "outputs": [],
   "source": []
  },
  {
   "cell_type": "code",
   "execution_count": null,
   "metadata": {},
   "outputs": [],
   "source": []
  }
 ],
 "metadata": {
  "kernelspec": {
   "display_name": "Python 3",
   "language": "python",
   "name": "python3"
  },
  "language_info": {
   "codemirror_mode": {
    "name": "ipython",
    "version": 3
   },
   "file_extension": ".py",
   "mimetype": "text/x-python",
   "name": "python",
   "nbconvert_exporter": "python",
   "pygments_lexer": "ipython3",
   "version": "3.5.2"
  }
 },
 "nbformat": 4,
 "nbformat_minor": 2
}
