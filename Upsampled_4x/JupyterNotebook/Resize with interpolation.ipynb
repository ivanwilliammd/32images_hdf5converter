{
 "cells": [
  {
   "cell_type": "code",
   "execution_count": 3,
   "metadata": {
    "scrolled": true
   },
   "outputs": [
    {
     "name": "stdout",
     "output_type": "stream",
     "text": [
      "Resized image size :  (2048, 2048, 3)\n"
     ]
    },
    {
     "data": {
      "text/plain": [
       "True"
      ]
     },
     "execution_count": 3,
     "metadata": {},
     "output_type": "execute_result"
    }
   ],
   "source": [
    "import numpy as np\n",
    "import cv2\n",
    "\n",
    "pics_path = '/home/ivanwilliam/Documents/Full_images/1.0/AGFA000000005675_Lung 1.0/AGFA000000005675_0151.jpg'\n",
    "img_ori = cv2.imread(pics_path)\n",
    "resize_image_nearest = cv2.resize(img_ori, dsize=(2048, 2048), interpolation=cv2.INTER_NEAREST)\n",
    "resize_image_linear = cv2.resize(img_ori, dsize=(2048, 2048), interpolation=cv2.INTER_LINEAR)\n",
    "resize_image_area = cv2.resize(img_ori, dsize=(2048, 2048), interpolation=cv2.INTER_AREA)\n",
    "resize_image_cubic = cv2.resize(img_ori, dsize=(2048, 2048), interpolation=cv2.INTER_CUBIC)\n",
    "resize_image_lanczos4 = cv2.resize(img_ori, dsize=(2048, 2048), interpolation=cv2.INTER_LANCZOS4)\n",
    "# INTER_NEAREST - a nearest-neighbor interpolation\n",
    "# INTER_LINEAR - a bilinear interpolation (used by default)\n",
    "# INTER_AREA - resampling using pixel area relation. It may be a preferred method for image decimation, as it gives moire’-free results. But when the image is zoomed, it is similar to the INTER_NEAREST method.\n",
    "# INTER_CUBIC - a bicubic interpolation over 4x4 pixel neighborhood\n",
    "# INTER_LANCZOS4 - a Lanczos interpolation over 8x8 pixel neighborhood\n",
    "\n",
    "pics_array= np.array(resize_image_nearest)\n",
    "print(\"Resized image size : \" , pics_array.shape)\n",
    "\n",
    "cv2.imwrite(\"Nearest.jpg\", resize_image_nearest)\n",
    "cv2.imwrite(\"Linear.jpg\", resize_image_linear)\n",
    "cv2.imwrite(\"Area.jpg\", resize_image_area)\n",
    "cv2.imwrite(\"Cubic.jpg\", resize_image_cubic)\n",
    "cv2.imwrite(\"Lanczos.jpg\", resize_image_lanczos4)"
   ]
  },
  {
   "cell_type": "code",
   "execution_count": null,
   "metadata": {},
   "outputs": [],
   "source": []
  }
 ],
 "metadata": {
  "kernelspec": {
   "display_name": "Python 3",
   "language": "python",
   "name": "python3"
  },
  "language_info": {
   "codemirror_mode": {
    "name": "ipython",
    "version": 3
   },
   "file_extension": ".py",
   "mimetype": "text/x-python",
   "name": "python",
   "nbconvert_exporter": "python",
   "pygments_lexer": "ipython3",
   "version": "3.5.2"
  }
 },
 "nbformat": 4,
 "nbformat_minor": 2
}
