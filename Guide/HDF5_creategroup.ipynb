{
 "cells": [
  {
   "cell_type": "code",
   "execution_count": 1,
   "metadata": {},
   "outputs": [],
   "source": [
    "import numpy as np\n",
    "import h5py\n",
    "\n",
    "matrix1 = np.random.random(size =(1000,1000))\n",
    "matrix2 = np.random.random(size =(10000, 100))\n",
    "matrix3 = np.random.random(size =(100, 100))\n",
    "matrix4 = np.random.random(size =(1000, 10000))\n",
    "\n",
    "with h5py.File('/home/ivanwilliam/Desktop/hdf5_groups.h5', 'w') as hdf:\n",
    "    G1 = hdf.create_group('Group1')\n",
    "    G1.create_dataset('dataset1', data=matrix1)\n",
    "    G1.create_dataset('dataset4', data=matrix4)\n",
    "    \n",
    "    G2 = hdf.create_group('Group2/SubGroup1')\n",
    "    G2.create_dataset('dataset3', data=matrix3)\n",
    "    \n",
    "    G3 = hdf.create_group('Group2/SubGroup2')\n",
    "    G3.create_dataset('dataset2', data=matrix2)"
   ]
  },
  {
   "cell_type": "code",
   "execution_count": 30,
   "metadata": {},
   "outputs": [
    {
     "name": "stdout",
     "output_type": "stream",
     "text": [
      "Base directory items: \n",
      "[('Group1', <HDF5 group \"/Group1\" (2 members)>), ('Group2', <HDF5 group \"/Group2\" (2 members)>)]\n",
      "\n",
      "Group 1 items: \n",
      "[('dataset1', <HDF5 dataset \"dataset1\": shape (1000, 1000), type \"<f8\">), ('dataset4', <HDF5 dataset \"dataset4\": shape (1000, 10000), type \"<f8\">)]\n",
      "\n",
      "Dataset4 from group 1 shape: (1000, 10000)\n",
      "\n",
      "Group 2 items: \n",
      "[('SubGroup1', <HDF5 group \"/Group2/SubGroup1\" (1 members)>), ('SubGroup2', <HDF5 group \"/Group2/SubGroup2\" (1 members)>)]\n",
      "\n",
      "Group 2 Subgroup 1 items: \n",
      "[('dataset3', <HDF5 dataset \"dataset3\": shape (100, 100), type \"<f8\">)]\n",
      "\n",
      "Dataset3 from group 2 sub 1 shape: (100, 100)\n",
      "\n"
     ]
    }
   ],
   "source": [
    "f=h5py.File('/home/ivanwilliam/Desktop/hdf5_groups.h5', 'r')\n",
    "base_items = list (f.items())\n",
    "print (\"Base directory items: \" + '\\n' + str(base_items) + '\\n')\n",
    "\n",
    "G1=f.get('Group1')\n",
    "print (\"Group 1 items: \" + \"\\n\" + str(list(G1.items())) + '\\n')\n",
    "\n",
    "dataset4 = np.array (G1.get('dataset4'))\n",
    "print (\"Dataset4 from group 1 shape: \" + str (dataset4.shape) + '\\n')\n",
    "\n",
    "\n",
    "G2=f.get('Group2')\n",
    "print (\"Group 2 items: \" + \"\\n\" + str(list(G2.items())) + '\\n')\n",
    "\n",
    "G2_1=G2.get('/Group2/SubGroup1')\n",
    "print (\"Group 2 Subgroup 1 items: \" + \"\\n\" + str(list(G2_1.items())) + '\\n')\n",
    "\n",
    "dataset3 = np.array (G2_1.get('dataset3'))\n",
    "print (\"Dataset3 from group 2 sub 1 shape: \" + str (dataset3.shape) + '\\n')\n"
   ]
  },
  {
   "cell_type": "code",
   "execution_count": null,
   "metadata": {},
   "outputs": [],
   "source": []
  },
  {
   "cell_type": "code",
   "execution_count": null,
   "metadata": {},
   "outputs": [],
   "source": []
  }
 ],
 "metadata": {
  "kernelspec": {
   "display_name": "Python 3",
   "language": "python",
   "name": "python3"
  },
  "language_info": {
   "codemirror_mode": {
    "name": "ipython",
    "version": 3
   },
   "file_extension": ".py",
   "mimetype": "text/x-python",
   "name": "python",
   "nbconvert_exporter": "python",
   "pygments_lexer": "ipython3",
   "version": "3.5.2"
  }
 },
 "nbformat": 4,
 "nbformat_minor": 2
}
